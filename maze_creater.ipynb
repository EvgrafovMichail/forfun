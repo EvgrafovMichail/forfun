{
 "cells": [
  {
   "cell_type": "markdown",
   "metadata": {},
   "source": [
    "# Maze Creater"
   ]
  },
  {
   "cell_type": "code",
   "execution_count": 4,
   "metadata": {},
   "outputs": [],
   "source": [
    "import matplotlib.pyplot as plt\n",
    "import random as rd\n",
    "import numpy as np"
   ]
  },
  {
   "cell_type": "markdown",
   "metadata": {},
   "source": [
    "#### Используемые средства:\n",
    "\n",
    ">1. matplotlib.pyplot\n",
    ">2. numpy\n",
    ">3. random\n",
    ">4. встроенные функции python"
   ]
  },
  {
   "cell_type": "markdown",
   "metadata": {},
   "source": [
    "**Цель:** cоздание программы, коротая по указанным размерам генерирует некоторый лабиринт, который возможно пройти."
   ]
  },
  {
   "cell_type": "markdown",
   "metadata": {},
   "source": [
    "### Реализация. "
   ]
  },
  {
   "cell_type": "code",
   "execution_count": 5,
   "metadata": {},
   "outputs": [],
   "source": [
    "class MazeCreater():\n",
    "    \"\"\"\n",
    "    There is a special class which create \n",
    "    a maze\n",
    "    \n",
    "    \"\"\"\n",
    "    def __init__(self, rows, cols):\n",
    "        self.__rows = rows\n",
    "        self.__cols = cols\n",
    "        self.__isize = rows * 3 + (rows + 1) * 2\n",
    "        self.__jsize = cols * 3 + (cols + 1) * 2\n",
    "        self.__maze = np.zeros((self.__isize, self.__jsize, 3), dtype=np.int32)\n",
    "        self.__ibrash = 0\n",
    "        self.__jbrash = 0\n",
    "        self.__visited = []\n",
    "        self.__rand = []\n",
    "        \n",
    "    def __set_start_position(self):\n",
    "        \"\"\"\n",
    "        This function sets start position in\n",
    "        the bottom of maze\n",
    "        \n",
    "        \"\"\"\n",
    "        i = self.__maze.shape[0] - 4\n",
    "        j = rd.randint(1, self.__cols) * 5 - 2\n",
    "        \n",
    "        self.__maze[self.__isize - 2 : self.__isize, j - 1 : j + 2] = [255, 255, 255]\n",
    "        \n",
    "        return [i, j]\n",
    "    \n",
    "    def __set_finish_position(self):\n",
    "        \"\"\"\n",
    "        This function sets finish position in\n",
    "        the upper part of maze\n",
    "        \n",
    "        \"\"\"\n",
    "\n",
    "        j = rd.randint(1, self.__cols) * 5 - 2\n",
    "        \n",
    "        self.__maze[0: 2, j - 1 : j + 2] = [255, 255, 255]\n",
    "    \n",
    "    def __set_random_position(self):\n",
    "        \"\"\"\n",
    "        This funtion choise one of untreated area and\n",
    "        set brush to it\n",
    "        \n",
    "        \"\"\"\n",
    "        \n",
    "        i = rd.randint(0, len(self.__rand) - 1)\n",
    "        \n",
    "        self.__ibrash, self.__jbrash = self.__rand[i]\n",
    "        self.__rand.pop(i)\n",
    "    \n",
    "    def __find_directions(self):\n",
    "        \"\"\"\n",
    "        This function find possible directions\n",
    "        in which brash can be moved\n",
    "        \n",
    "        \"\"\"\n",
    "        \n",
    "        i, j = self.__ibrash, self.__jbrash\n",
    "        shape = self.__maze.shape[:2]\n",
    "        directions = []\n",
    "        \n",
    "        if (i - 5 < shape[0]) and (i - 5 >= 0):\n",
    "            if not([i - 5, j] in self.__visited):\n",
    "                directions.append('up')\n",
    "            \n",
    "        if (i + 5 < shape[0]) and (i + 5 >= 0):\n",
    "            if not([i + 5, j] in self.__visited):\n",
    "                directions.append('down')\n",
    "            \n",
    "        if (j - 5 < shape[1]) and (j - 5 >= 0):\n",
    "            if not([i, j - 5] in self.__visited):\n",
    "                directions.append('left')\n",
    "            \n",
    "        if (j + 5 < shape[1]) and (j + 5 >= 0):\n",
    "            if not([i, j + 5] in self.__visited):\n",
    "                directions.append('right')\n",
    "            \n",
    "        return directions\n",
    "    \n",
    "    def __move_brash(self, directions):\n",
    "        \"\"\"\n",
    "        This function move brash\n",
    "        \n",
    "        \"\"\"\n",
    "        \n",
    "        direction = rd.choice(directions)\n",
    "        \n",
    "        if len(directions) > 1:\n",
    "            self.__rand.append([self.__ibrash, self.__jbrash])\n",
    "        \n",
    "        i, j = self.__ibrash, self.__jbrash\n",
    "        \n",
    "        if direction == 'up':\n",
    "            self.__maze[i - 3 : i - 1, j - 1 : j + 2] = [255, 255, 255]\n",
    "            \n",
    "            self.__ibrash, self.__jbrash = i - 5, j\n",
    "            \n",
    "        elif direction == 'down':\n",
    "            self.__maze[i + 2 : i + 4, j - 1 : j + 2] = [255, 255, 255]\n",
    "            \n",
    "            self.__ibrash, self.__jbrash = i + 5, j\n",
    "            \n",
    "        elif direction == 'left':\n",
    "            self.__maze[i - 1 : i + 2, j - 3 : j - 1] = [255, 255, 255]\n",
    "            \n",
    "            self.__ibrash, self.__jbrash = i, j - 5\n",
    "            \n",
    "        elif direction == 'right':\n",
    "            self.__maze[i - 1 : i + 2, j + 2 : j + 4] = [255, 255, 255]\n",
    "            \n",
    "            self.__ibrash, self.__jbrash = i, j + 5\n",
    "            \n",
    "        self.__visited.append([self.__ibrash, self.__jbrash])\n",
    "        \n",
    "    def __fill(self):\n",
    "        \"\"\"\n",
    "        This function set white color in \n",
    "        the current area\n",
    "        \n",
    "        \"\"\"\n",
    "        \n",
    "        i, j = self.__ibrash, self.__jbrash\n",
    "        self.__maze[i - 1 : i + 2, j - 1 : j + 2] = [255, 255, 255]\n",
    "            \n",
    "    def build_maze(self):\n",
    "        \"\"\"\n",
    "        This function build maze\n",
    "        \n",
    "        \"\"\"\n",
    "        \n",
    "        self.__visited = [self.__set_start_position()]\n",
    "        self.__rand.append(self.__visited[0])\n",
    "        \n",
    "        self.__set_finish_position()\n",
    "        \n",
    "        while (len(self.__visited)) != (self.__rows * self.__cols):\n",
    "            self.__set_random_position()\n",
    "            \n",
    "            self.__fill()\n",
    "            \n",
    "            directions = self.__find_directions()\n",
    "            \n",
    "            while len(directions) != 0:\n",
    "                self.__move_brash(directions)\n",
    "                \n",
    "                self.__fill()\n",
    "                \n",
    "                directions = self.__find_directions()\n",
    "                \n",
    "        return self.__maze"
   ]
  },
  {
   "cell_type": "markdown",
   "metadata": {},
   "source": [
    "### Пример работы программы. "
   ]
  },
  {
   "cell_type": "code",
   "execution_count": 10,
   "metadata": {},
   "outputs": [
    {
     "data": {
      "image/png": "[encoded data removed]",
      "text/plain": [
       "<Figure size 921.6x921.6 with 1 Axes>"
      ]
     },
     "metadata": {},
     "output_type": "display_data"
    }
   ],
   "source": [
    "fig, ax = plt.subplots(figsize=(12.8, 12.8))\n",
    "\n",
    "maze = MazeCreater(20, 20).build_maze()\n",
    "\n",
    "ax.set_xticks([])\n",
    "ax.set_yticks([])\n",
    "\n",
    "plt.imshow(maze)\n",
    "\n",
    "plt.show()"
   ]
  }
 ],
 "metadata": {
  "kernelspec": {
   "display_name": "Python 3",
   "language": "python",
   "name": "python3"
  },
  "language_info": {
   "codemirror_mode": {
    "name": "ipython",
    "version": 3
   },
   "file_extension": ".py",
   "mimetype": "text/x-python",
   "name": "python",
   "nbconvert_exporter": "python",
   "pygments_lexer": "ipython3",
   "version": "3.8.3"
  }
 },
 "nbformat": 4,
 "nbformat_minor": 4
}
